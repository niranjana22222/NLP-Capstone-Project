{
 "cells": [
  {
   "cell_type": "code",
   "execution_count": 16,
   "id": "1306eeb0",
   "metadata": {},
   "outputs": [],
   "source": [
    "from cogworks_data.language import get_data_path\n",
    "from pathlib import Path\n",
    "import json\n",
    "from collections import defaultdict\n"
   ]
  },
  {
   "cell_type": "code",
   "execution_count": 17,
   "id": "5bc261b7",
   "metadata": {},
   "outputs": [],
   "source": [
    "import image_search"
   ]
  },
  {
   "cell_type": "code",
   "execution_count": 22,
   "id": "527c01ae",
   "metadata": {},
   "outputs": [
    {
     "name": "stderr",
     "output_type": "stream",
     "text": [
      "IOPub data rate exceeded.\n",
      "The notebook server will temporarily stop sending output\n",
      "to the client in order to avoid crashing it.\n",
      "To change this limit, set the config variable\n",
      "`--NotebookApp.iopub_data_rate_limit`.\n",
      "\n",
      "Current values:\n",
      "NotebookApp.iopub_data_rate_limit=1000000.0 (bytes/sec)\n",
      "NotebookApp.rate_limit_window=3.0 (secs)\n",
      "\n"
     ]
    }
   ],
   "source": [
    "class COCODataOrganizer:\n",
    "    filename = get_data_path(\"captions_train2014.json\")\n",
    "    with Path(filename).open() as f:\n",
    "        captions_train = json.load(f)\n",
    "#     print(captions_train.keys())\n",
    "\n",
    "#     print(len(captions_train['images']))\n",
    "    captions_train['images'][0]\n",
    "#     print(len(captions_train['annotations']))\n",
    "\n",
    "    captions_train['annotations'][0]\n",
    "\n",
    "    image2url = {image[\"id\"]: image[\"coco_url\"] for image in captions_train[\"images\"]}\n",
    "\n",
    "    image2captions = defaultdict(list)\n",
    "    for a in captions_train[\"annotations\"]:\n",
    "        image2captions[a[\"image_id\"]].append(a[\"id\"])\n",
    "\n",
    "    caption2text = {a['id']: a['caption'] for a in captions_train['annotations']}\n",
    "\n",
    "#     print(caption2text)\n",
    "    image_id = captions_train['images'][0]['id']\n",
    "    image_url = image2url[image_id]\n",
    "\n",
    "    print(f'image_id = {image_id}')\n",
    "    for caption_id in image2captions[image_id]:\n",
    "        print(f'caption_id = {caption_id}: {caption2text[caption_id]}')\n",
    "        \n",
    "\n"
   ]
  },
  {
   "cell_type": "code",
   "execution_count": 18,
   "id": "c9bbf8a1",
   "metadata": {},
   "outputs": [
    {
     "name": "stdout",
     "output_type": "stream",
     "text": [
      "dict_keys(['info', 'images', 'licenses', 'annotations'])\n",
      "82783\n"
     ]
    },
    {
     "data": {
      "text/plain": [
       "{'license': 5,\n",
       " 'file_name': 'COCO_train2014_000000057870.jpg',\n",
       " 'coco_url': 'http://images.cocodataset.org/train2014/COCO_train2014_000000057870.jpg',\n",
       " 'height': 480,\n",
       " 'width': 640,\n",
       " 'date_captured': '2013-11-14 16:28:13',\n",
       " 'flickr_url': 'http://farm4.staticflickr.com/3153/2970773875_164f0c0b83_z.jpg',\n",
       " 'id': 57870}"
      ]
     },
     "execution_count": 18,
     "metadata": {},
     "output_type": "execute_result"
    }
   ],
   "source": [
    "filename = get_data_path(\"captions_train2014.json\")\n",
    "with Path(filename).open() as f:\n",
    "    captions_train = json.load(f)\n",
    "# print(captions_train.keys())\n",
    "\n",
    "print(len(captions_train['images']))\n",
    "captions_train['images'][0]\n"
   ]
  },
  {
   "cell_type": "code",
   "execution_count": 25,
   "id": "f7f2d7a3",
   "metadata": {},
   "outputs": [
    {
     "name": "stderr",
     "output_type": "stream",
     "text": [
      "IOPub data rate exceeded.\n",
      "The notebook server will temporarily stop sending output\n",
      "to the client in order to avoid crashing it.\n",
      "To change this limit, set the config variable\n",
      "`--NotebookApp.iopub_data_rate_limit`.\n",
      "\n",
      "Current values:\n",
      "NotebookApp.iopub_data_rate_limit=1000000.0 (bytes/sec)\n",
      "NotebookApp.rate_limit_window=3.0 (secs)\n",
      "\n"
     ]
    }
   ],
   "source": [
    "# print(len(captions_train['annotations']))\n",
    "\n",
    "captions_train['annotations'][0]\n",
    "\n",
    "image2url = {image[\"id\"]: image[\"coco_url\"] for image in captions_train[\"images\"]}\n",
    "\n",
    "image2captions = defaultdict(list)\n",
    "for a in captions_train[\"annotations\"]:\n",
    "    image2captions[a[\"image_id\"]].append(a[\"id\"])\n",
    "    \n",
    "caption2text = {a['id']: a['caption'] for a in captions_train['annotations']}\n",
    "\n",
    "print(caption2text)"
   ]
  },
  {
   "cell_type": "code",
   "execution_count": 24,
   "id": "4b312fe8",
   "metadata": {},
   "outputs": [
    {
     "name": "stdout",
     "output_type": "stream",
     "text": [
      "image_id = 520950\n",
      "caption_id = 636271: the kitchen is full of spices on the rack\n",
      "caption_id = 638152: A kitchen with counter, oven and other accessories.\n",
      "caption_id = 638287: A small kitchen that utilizes all of its space. \n",
      "caption_id = 638446: This small kitchen has pots, pans and spices on display\n",
      "caption_id = 643555: A VERY SMALL KITCHEN WITH A STOVE AND A SHELF OF POTS \n"
     ]
    }
   ],
   "source": [
    "image_id = captions_train['images'][3]['id']\n",
    "image_url = image2url[image_id]\n",
    "\n",
    "print(f'image_id = {image_id}')\n",
    "for caption_id in image2captions[image_id]:\n",
    "    print(f'caption_id = {caption_id}: {caption2text[caption_id]}')\n"
   ]
  },
  {
   "cell_type": "code",
   "execution_count": null,
   "id": "ded8eec0",
   "metadata": {},
   "outputs": [],
   "source": []
  }
 ],
 "metadata": {
  "jupytext": {
   "main_language": "python",
   "notebook_metadata_filter": "nbsphinx,-kernelspec"
  },
  "kernelspec": {
   "display_name": "Python 3 (ipykernel)",
   "language": "python",
   "name": "python3"
  },
  "language_info": {
   "codemirror_mode": {
    "name": "ipython",
    "version": 3
   },
   "file_extension": ".py",
   "mimetype": "text/x-python",
   "name": "python",
   "nbconvert_exporter": "python",
   "pygments_lexer": "ipython3",
   "version": "3.11.7"
  },
  "nbsphinx": {
   "execute": "never"
  }
 },
 "nbformat": 4,
 "nbformat_minor": 5
}
